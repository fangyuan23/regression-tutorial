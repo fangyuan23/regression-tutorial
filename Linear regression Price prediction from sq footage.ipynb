{
 "cells": [
  {
   "cell_type": "code",
   "execution_count": 1,
   "metadata": {
    "collapsed": true
   },
   "outputs": [],
   "source": [
    "import pandas as pd"
   ]
  },
  {
   "cell_type": "code",
   "execution_count": 3,
   "metadata": {},
   "outputs": [],
   "source": [
    "data = pd.read_csv(\"data.csv\")"
   ]
  },
  {
   "cell_type": "code",
   "execution_count": 4,
   "metadata": {},
   "outputs": [
    {
     "data": {
      "text/plain": [
       "Index(['acreage', 'num_rooms', 'square_footage', 'price'], dtype='object')"
      ]
     },
     "execution_count": 4,
     "metadata": {},
     "output_type": "execute_result"
    }
   ],
   "source": [
    "data.columns "
   ]
  },
  {
   "cell_type": "code",
   "execution_count": 6,
   "metadata": {},
   "outputs": [
    {
     "data": {
      "text/plain": [
       "0      4.059551e+06\n",
       "1      5.105187e+05\n",
       "2      6.470565e+06\n",
       "3      3.314287e+06\n",
       "4      3.717863e+06\n",
       "5      3.233533e+06\n",
       "6      2.973362e+06\n",
       "7      3.820593e+06\n",
       "8      4.910202e+06\n",
       "9      3.059523e+06\n",
       "10     4.920062e+06\n",
       "11     2.138686e+06\n",
       "12     3.353449e+06\n",
       "13     5.079089e+06\n",
       "14     3.814125e+06\n",
       "15     4.601240e+06\n",
       "16     5.399372e+06\n",
       "17     4.960009e+06\n",
       "18     7.045157e+06\n",
       "19     4.175585e+06\n",
       "20     6.040715e+06\n",
       "21     4.959212e+06\n",
       "22     3.925859e+06\n",
       "23     2.700972e+06\n",
       "24     3.549729e+06\n",
       "25     3.612629e+06\n",
       "26     2.406227e+06\n",
       "27     1.427876e+06\n",
       "28     4.156864e+06\n",
       "29     4.755704e+06\n",
       "           ...     \n",
       "470    1.553701e+06\n",
       "471    9.647226e+05\n",
       "472    2.656111e+06\n",
       "473    4.604123e+06\n",
       "474    3.232905e+06\n",
       "475    3.756887e+06\n",
       "476    2.838550e+06\n",
       "477    5.587864e+06\n",
       "478    1.902566e+06\n",
       "479    4.405864e+06\n",
       "480    4.695766e+06\n",
       "481    1.588523e+06\n",
       "482    1.705683e+06\n",
       "483    4.550952e+06\n",
       "484    4.094068e+06\n",
       "485    2.924679e+06\n",
       "486    4.046173e+05\n",
       "487    5.863630e+06\n",
       "488    2.311673e+06\n",
       "489    2.441253e+06\n",
       "490    4.676989e+06\n",
       "491    5.576315e+06\n",
       "492    2.454687e+06\n",
       "493    4.491113e+06\n",
       "494    2.977541e+06\n",
       "495    3.824952e+06\n",
       "496    2.366610e+06\n",
       "497    2.390126e+06\n",
       "498    4.569611e+05\n",
       "499    3.392752e+06\n",
       "Name: price, Length: 500, dtype: float64"
      ]
     },
     "execution_count": 6,
     "metadata": {},
     "output_type": "execute_result"
    }
   ],
   "source": [
    "data[\"price\"] "
   ]
  },
  {
   "cell_type": "code",
   "execution_count": 14,
   "metadata": {},
   "outputs": [
    {
     "data": {
      "text/plain": [
       "3400055.07083781"
      ]
     },
     "execution_count": 14,
     "metadata": {},
     "output_type": "execute_result"
    }
   ],
   "source": [
    "average_price = data[\"price\"].mean()\n",
    "average_price"
   ]
  },
  {
   "cell_type": "code",
   "execution_count": 15,
   "metadata": {
    "collapsed": true
   },
   "outputs": [],
   "source": [
    "average_sqft = data[\"square_footage\"].mean()"
   ]
  },
  {
   "cell_type": "code",
   "execution_count": 16,
   "metadata": {},
   "outputs": [
    {
     "data": {
      "text/plain": [
       "1504.2348305023168"
      ]
     },
     "execution_count": 16,
     "metadata": {},
     "output_type": "execute_result"
    }
   ],
   "source": [
    "average_sqft"
   ]
  },
  {
   "cell_type": "code",
   "execution_count": 18,
   "metadata": {},
   "outputs": [
    {
     "data": {
      "text/plain": [
       "0      6.594959e+05\n",
       "1     -2.889536e+06\n",
       "2      3.070510e+06\n",
       "3     -8.576809e+04\n",
       "4      3.178080e+05\n",
       "5     -1.665222e+05\n",
       "6     -4.266926e+05\n",
       "7      4.205375e+05\n",
       "8      1.510147e+06\n",
       "9     -3.405322e+05\n",
       "10     1.520007e+06\n",
       "11    -1.261369e+06\n",
       "12    -4.660608e+04\n",
       "13     1.679033e+06\n",
       "14     4.140697e+05\n",
       "15     1.201185e+06\n",
       "16     1.999317e+06\n",
       "17     1.559954e+06\n",
       "18     3.645102e+06\n",
       "19     7.755298e+05\n",
       "20     2.640660e+06\n",
       "21     1.559157e+06\n",
       "22     5.258041e+05\n",
       "23    -6.990833e+05\n",
       "24     1.496741e+05\n",
       "25     2.125740e+05\n",
       "26    -9.938285e+05\n",
       "27    -1.972179e+06\n",
       "28     7.568085e+05\n",
       "29     1.355649e+06\n",
       "           ...     \n",
       "470   -1.846354e+06\n",
       "471   -2.435332e+06\n",
       "472   -7.439442e+05\n",
       "473    1.204068e+06\n",
       "474   -1.671504e+05\n",
       "475    3.568322e+05\n",
       "476   -5.615050e+05\n",
       "477    2.187809e+06\n",
       "478   -1.497489e+06\n",
       "479    1.005809e+06\n",
       "480    1.295711e+06\n",
       "481   -1.811532e+06\n",
       "482   -1.694372e+06\n",
       "483    1.150897e+06\n",
       "484    6.940130e+05\n",
       "485   -4.753762e+05\n",
       "486   -2.995438e+06\n",
       "487    2.463575e+06\n",
       "488   -1.088382e+06\n",
       "489   -9.588021e+05\n",
       "490    1.276934e+06\n",
       "491    2.176260e+06\n",
       "492   -9.453679e+05\n",
       "493    1.091058e+06\n",
       "494   -4.225142e+05\n",
       "495    4.248972e+05\n",
       "496   -1.033445e+06\n",
       "497   -1.009929e+06\n",
       "498   -2.943094e+06\n",
       "499   -7.303347e+03\n",
       "Name: price, Length: 500, dtype: float64"
      ]
     },
     "execution_count": 18,
     "metadata": {},
     "output_type": "execute_result"
    }
   ],
   "source": [
    "normalized_prices = data[\"price\"]-average_price\n",
    "normalized_prices"
   ]
  },
  {
   "cell_type": "code",
   "execution_count": 19,
   "metadata": {},
   "outputs": [
    {
     "data": {
      "text/plain": [
       "0       619.297411\n",
       "1     -1384.413922\n",
       "2      2222.875948\n",
       "3         1.700419\n",
       "4      -368.390850\n",
       "5       101.277539\n",
       "6     -1366.284208\n",
       "7       775.460986\n",
       "8      1978.145922\n",
       "9      -541.559032\n",
       "10     1719.644078\n",
       "11    -1429.911061\n",
       "12      732.186277\n",
       "13      179.027921\n",
       "14     -228.802059\n",
       "15     1910.072492\n",
       "16     2516.174932\n",
       "17     1474.665496\n",
       "18     2160.086636\n",
       "19      639.038874\n",
       "20     1382.735423\n",
       "21     1546.687247\n",
       "22     1262.357645\n",
       "23      -91.416916\n",
       "24       61.151669\n",
       "25     -545.607420\n",
       "26     -740.361994\n",
       "27     -785.190986\n",
       "28      883.565898\n",
       "29     1158.712574\n",
       "          ...     \n",
       "470   -1441.643430\n",
       "471   -1124.383779\n",
       "472   -1019.829166\n",
       "473    1308.997028\n",
       "474    -488.296541\n",
       "475     448.858788\n",
       "476    -899.191739\n",
       "477    1641.830116\n",
       "478    -525.122899\n",
       "479     361.716039\n",
       "480    1311.047588\n",
       "481   -1233.058114\n",
       "482    -552.268421\n",
       "483      83.796143\n",
       "484    1026.537654\n",
       "485    -899.584728\n",
       "486   -1400.097320\n",
       "487    1207.031698\n",
       "488    -520.835790\n",
       "489   -1336.555359\n",
       "490     922.965112\n",
       "491    1967.417449\n",
       "492   -1196.839932\n",
       "493    -473.759498\n",
       "494   -1123.768390\n",
       "495    -186.214753\n",
       "496    -545.590268\n",
       "497    -612.226798\n",
       "498   -1496.710999\n",
       "499     526.498023\n",
       "Name: square_footage, Length: 500, dtype: float64"
      ]
     },
     "execution_count": 19,
     "metadata": {},
     "output_type": "execute_result"
    }
   ],
   "source": [
    "normalized_sqft = data[\"square_footage\"]-average_sqft\n",
    "normalized_sqft"
   ]
  },
  {
   "cell_type": "code",
   "execution_count": 23,
   "metadata": {},
   "outputs": [
    {
     "name": "stdout",
     "output_type": "stream",
     "text": [
      "812049013595.5837\n"
     ]
    }
   ],
   "source": [
    "covar_price = (normalized_prices*normalized_sqft).sum()\n",
    "var_sqft = (normalized_sqft*normalized_sqft).sum()\n",
    "print(covar_price)"
   ]
  },
  {
   "cell_type": "code",
   "execution_count": 24,
   "metadata": {},
   "outputs": [
    {
     "name": "stdout",
     "output_type": "stream",
     "text": [
      "645905420.0240977\n"
     ]
    }
   ],
   "source": [
    "print(var_sqft)"
   ]
  },
  {
   "cell_type": "code",
   "execution_count": 25,
   "metadata": {
    "collapsed": true
   },
   "outputs": [],
   "source": [
    "beta = (covar_price/var_sqft)"
   ]
  },
  {
   "cell_type": "code",
   "execution_count": 26,
   "metadata": {},
   "outputs": [
    {
     "name": "stdout",
     "output_type": "stream",
     "text": [
      "1257.2258854327117\n"
     ]
    }
   ],
   "source": [
    "print(beta)"
   ]
  },
  {
   "cell_type": "code",
   "execution_count": 27,
   "metadata": {},
   "outputs": [
    {
     "name": "stdout",
     "output_type": "stream",
     "text": [
      "1508892.10416081\n"
     ]
    }
   ],
   "source": [
    "alpha = (average_price)-(beta*average_sqft)\n",
    "print(alpha)"
   ]
  },
  {
   "cell_type": "code",
   "execution_count": 29,
   "metadata": {},
   "outputs": [],
   "source": [
    "%matplotlib inline\n",
    "import matplotlib.pyplot as plt"
   ]
  },
  {
   "cell_type": "code",
   "execution_count": 31,
   "metadata": {},
   "outputs": [
    {
     "data": {
      "text/plain": [
       "[<matplotlib.lines.Line2D at 0x11015c748>]"
      ]
     },
     "execution_count": 31,
     "metadata": {},
     "output_type": "execute_result"
    },
    {
     "data": {
      "image/png": "[encoded data removed]",
      "text/plain": [
       "<matplotlib.figure.Figure at 0x1101ecb38>"
      ]
     },
     "metadata": {},
     "output_type": "display_data"
    }
   ],
   "source": [
    "plt.plot(data[\"price\"],data[\"square_footage\"],\".\") "
   ]
  },
  {
   "cell_type": "code",
   "execution_count": 34,
   "metadata": {},
   "outputs": [
    {
     "name": "stdout",
     "output_type": "stream",
     "text": [
      "0      4.178652e+06\n",
      "1      1.659534e+06\n",
      "2      6.194712e+06\n",
      "3      3.402193e+06\n",
      "4      2.936905e+06\n",
      "5      3.527384e+06\n",
      "6      1.682327e+06\n",
      "7      4.374985e+06\n",
      "8      5.887031e+06\n",
      "9      2.719193e+06\n",
      "10     5.562036e+06\n",
      "11     1.602334e+06\n",
      "12     4.320579e+06\n",
      "13     3.625134e+06\n",
      "14     3.112399e+06\n",
      "15     5.801448e+06\n",
      "16     6.563455e+06\n",
      "17     5.254043e+06\n",
      "18     6.115772e+06\n",
      "19     4.203471e+06\n",
      "20     5.138466e+06\n",
      "21     5.344590e+06\n",
      "22     4.987124e+06\n",
      "23     3.285123e+06\n",
      "24     3.476937e+06\n",
      "25     2.714103e+06\n",
      "26     2.469253e+06\n",
      "27     2.412893e+06\n",
      "28     4.510897e+06\n",
      "29     4.856819e+06\n",
      "           ...     \n",
      "470    1.587584e+06\n",
      "471    1.986451e+06\n",
      "472    2.117899e+06\n",
      "473    5.045760e+06\n",
      "474    2.786156e+06\n",
      "475    3.964372e+06\n",
      "476    2.269568e+06\n",
      "477    5.464206e+06\n",
      "478    2.739857e+06\n",
      "479    3.854814e+06\n",
      "480    5.048338e+06\n",
      "481    1.849822e+06\n",
      "482    2.705729e+06\n",
      "483    3.505406e+06\n",
      "484    4.690645e+06\n",
      "485    2.269074e+06\n",
      "486    1.639816e+06\n",
      "487    4.917567e+06\n",
      "488    2.745247e+06\n",
      "489    1.719703e+06\n",
      "490    4.560431e+06\n",
      "491    5.873543e+06\n",
      "492    1.895357e+06\n",
      "493    2.804432e+06\n",
      "494    1.987224e+06\n",
      "495    3.165941e+06\n",
      "496    2.714125e+06\n",
      "497    2.630348e+06\n",
      "498    1.518351e+06\n",
      "499    4.061982e+06\n",
      "Name: square_footage, Length: 500, dtype: float64\n"
     ]
    }
   ],
   "source": [
    "estimated_prices = (beta*data['square_footage'])+alpha\n",
    "print(estimated_prices)"
   ]
  },
  {
   "cell_type": "code",
   "execution_count": 41,
   "metadata": {},
   "outputs": [
    {
     "data": {
      "text/plain": [
       "[<matplotlib.lines.Line2D at 0x110c1b908>,\n",
       " <matplotlib.lines.Line2D at 0x110c1bb00>]"
      ]
     },
     "execution_count": 41,
     "metadata": {},
     "output_type": "execute_result"
    },
    {
     "data": {
      "image/png": "[encoded data removed]",
      "text/plain": [
       "<matplotlib.figure.Figure at 0x110ab8f98>"
      ]
     },
     "metadata": {},
     "output_type": "display_data"
    }
   ],
   "source": [
    "plt.plot(data[\"price\"],data[\"square_footage\"],\".\",estimated_prices,data[\"square_footage\"],\"-\") "
   ]
  },
  {
   "cell_type": "code",
   "execution_count": null,
   "metadata": {
    "collapsed": true
   },
   "outputs": [],
   "source": []
  }
 ],
 "metadata": {
  "kernelspec": {
   "display_name": "Python 3",
   "language": "python",
   "name": "python3"
  },
  "language_info": {
   "codemirror_mode": {
    "name": "ipython",
    "version": 3
   },
   "file_extension": ".py",
   "mimetype": "text/x-python",
   "name": "python",
   "nbconvert_exporter": "python",
   "pygments_lexer": "ipython3",
   "version": "3.6.1"
  }
 },
 "nbformat": 4,
 "nbformat_minor": 2
}
